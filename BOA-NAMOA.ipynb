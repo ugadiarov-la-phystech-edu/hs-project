{
 "cells": [
  {
   "cell_type": "code",
   "execution_count": 1,
   "metadata": {},
   "outputs": [],
   "source": [
    "import networkx as nx\n",
    "import numpy as np\n",
    "import pandas as pd\n",
    "\n",
    "import collections\n",
    "import heapq\n",
    "import math\n",
    "import pickle\n",
    "import random\n",
    "from tqdm.notebook import tqdm\n",
    "import time\n",
    "import os"
   ]
  },
  {
   "cell_type": "markdown",
   "metadata": {},
   "source": [
    "# 1 Реализация `NAMOA` и `BOA`\n",
    "## 1.1 Общая часть"
   ]
  },
  {
   "cell_type": "code",
   "execution_count": 2,
   "metadata": {},
   "outputs": [],
   "source": [
    "def read_edgelists(path_distance_data, path_time_data):\n",
    "    graph = nx.Graph()\n",
    "    V = None\n",
    "    E = None\n",
    "    with open(path_distance_data, 'r') as file_distance_data, open(path_time_data, 'r') as file_time_data:\n",
    "        for line_distance, line_time in zip(file_distance_data, file_time_data):\n",
    "            tokens_distance = line_distance.strip().split()\n",
    "            tokens_time = line_time.strip().split()\n",
    "            assert tokens_distance[0] == tokens_time[0]\n",
    "            \n",
    "            if tokens_distance[0] == 'p':\n",
    "                V = int(tokens_distance[2])\n",
    "                assert V == int(tokens_time[2])\n",
    "                \n",
    "                E = int(tokens_distance[3])\n",
    "                assert E == int(tokens_time[3])\n",
    "            elif tokens_distance[0] == 'a':\n",
    "                E -= 1\n",
    "                node1 = int(tokens_distance[1])\n",
    "                assert node1 == int(tokens_time[1])\n",
    "                \n",
    "                node2 = int(tokens_distance[2])\n",
    "                assert node2 == int(tokens_time[2])\n",
    "                \n",
    "                distance = int(tokens_distance[3])\n",
    "                time = int(tokens_time[3])\n",
    "                graph.add_edge(node1, node2, distance=distance, time=time)\n",
    "        \n",
    "        assert len(graph.nodes()) == V, f'Expected nodes:{V}, actual:{len(graph.nodes())}.'\n",
    "        assert E == 0, f'Expected: all edges are read, actual:{E} edges aren\\'t read.'\n",
    "    \n",
    "    return graph\n",
    "\n",
    "\n",
    "class Node:\n",
    "    def __init__(self, vertex, g, f, parent):\n",
    "        super().__init__()\n",
    "        self.vertex = vertex\n",
    "        self.g = g\n",
    "        self.f = f\n",
    "        self.parent = parent\n",
    "        self.tuple = (self.vertex, self.g, self.f, self.parent)\n",
    "    \n",
    "    def __eq__(self, other):\n",
    "        return self.tuple == other.tuple\n",
    "    \n",
    "    def __hash__(self):\n",
    "        return hash(self.tuple)\n",
    "    \n",
    "    def __lt__(self, other):\n",
    "        return self.f < other.f\n",
    "    \n",
    "    def __repr__(self):\n",
    "        return f'vertex={self.vertex} g={self.g} f={self.f} parent={self.parent}'\n",
    "\n",
    "\n",
    "def dominates(p, q):\n",
    "    return (p[0] < q[0] and p[1] <= q[1]) or (p[0] == q[0] and p[1] < q[1])"
   ]
  },
  {
   "cell_type": "markdown",
   "metadata": {},
   "source": [
    "## 1.2 Реализация `NAMOA`"
   ]
  },
  {
   "cell_type": "code",
   "execution_count": 3,
   "metadata": {},
   "outputs": [],
   "source": [
    "class OpenNAMOA:\n",
    "    def __init__(self):\n",
    "        super().__init__()\n",
    "        self.queue = []\n",
    "        self.valid_nodes = collections.defaultdict(set)\n",
    "        self.n_invalid = 0\n",
    "        self.max_size = 0\n",
    "        self.max_size_invalid = 0\n",
    "    \n",
    "    def is_empty(self):\n",
    "        return len(self.queue) == self.n_invalid\n",
    "    \n",
    "    def _get_valid_nodes(self, node):\n",
    "        return self.valid_nodes[(node.vertex, node.g)]\n",
    "    \n",
    "    def push(self, node):\n",
    "        self._get_valid_nodes(node).add(node)\n",
    "        heapq.heappush(self.queue, [node.f, node])\n",
    "        if len(self.queue) > self.max_size_invalid:\n",
    "            self.max_size_invalid = len(self.queue)\n",
    "        \n",
    "        if len(self.queue) - self.n_invalid > self.max_size:\n",
    "            self.max_size = len(self.queue) - self.n_invalid\n",
    "    \n",
    "    def remove_dominated(self, f):\n",
    "        for _, node in self.queue:\n",
    "            valid_nodes = self._get_valid_nodes(node)\n",
    "            if node not in valid_nodes:\n",
    "                continue\n",
    "            \n",
    "            if dominates(f, node.f):\n",
    "                valid_nodes.remove(node)\n",
    "                self.n_invalid += 1\n",
    "    \n",
    "    def pop(self):\n",
    "        _, node = heapq.heappop(self.queue)\n",
    "        valid_nodes = self._get_valid_nodes(node)\n",
    "        while node not in valid_nodes:\n",
    "            self.n_invalid -= 1\n",
    "            _, node = heapq.heappop(self.queue)\n",
    "            valid_nodes = self._get_valid_nodes(node)\n",
    "        \n",
    "        valid_nodes.remove(node)\n",
    "        return node\n",
    "    \n",
    "    def invalidate(self, vertex, g_values):\n",
    "        for g in g_values:\n",
    "            valid_nodes = self.valid_nodes.pop((vertex, g), None)\n",
    "            if valid_nodes is not None:\n",
    "                self.n_invalid += len(valid_nodes)\n",
    "\n",
    "\n",
    "def remove_dominated(g, g_set):\n",
    "    to_remove = [g_dominated for g_dominated in g_set if dominates(g, g_dominated)]\n",
    "    for g_dominated in to_remove:\n",
    "        g_set.remove(g_dominated)\n",
    "    \n",
    "    return to_remove\n",
    "\n",
    "\n",
    "def namoa(graph, start, goal):\n",
    "    start_time = time.time()\n",
    "    n_expansions = 0\n",
    "    \n",
    "    solutions = []\n",
    "    h0 = nx.shortest_path_length(graph, source=goal, weight='distance')\n",
    "    h1 = nx.shortest_path_length(graph, source=goal, weight='time')\n",
    "    g_open = collections.defaultdict(set)\n",
    "    g_close = collections.defaultdict(set)\n",
    "    \n",
    "    parent = {(0, 0): set()}\n",
    "    g_open[start].add((0, 0))\n",
    "    open_ = OpenNAMOA()\n",
    "    open_.push(Node(vertex=start, g=(0, 0), f=(h0[start], h1[start]), parent=None))\n",
    "    \n",
    "    while not open_.is_empty():\n",
    "        node = open_.pop()\n",
    "        g_open[node.vertex].remove(node.g)\n",
    "        g_close[node.vertex].add(node.g)\n",
    "        if node.vertex == goal:\n",
    "            solutions.append(node.g)\n",
    "            open_.remove_dominated(node.f)\n",
    "            continue\n",
    "        \n",
    "        n_expansions += 1\n",
    "        for edge in graph.edges(node.vertex, data=True):\n",
    "            next_vertex = edge[1]\n",
    "            cost = (edge[2]['distance'], edge[2]['time'])\n",
    "            next_g = (node.g[0] + cost[0], node.g[1] + cost[1])\n",
    "            if next_g in g_open[next_vertex] or next_g in g_close[next_vertex]:\n",
    "                parent[next_g].add(node.g)\n",
    "                continue\n",
    "            \n",
    "            if any(dominates(g, next_g) for g in g_open[next_vertex]) \\\n",
    "                    or any(dominates(g, next_g) for g in g_close[next_vertex]):\n",
    "                continue\n",
    "            \n",
    "            next_f = (next_g[0] + h0[next_vertex], next_g[1] + h1[next_vertex])\n",
    "            if any(dominates(g, next_f) for g in solutions):\n",
    "                continue\n",
    "            \n",
    "            to_remove = remove_dominated(next_g, g_open[next_vertex])\n",
    "            open_.invalidate(next_vertex, to_remove)\n",
    "            \n",
    "            remove_dominated(next_g, g_close[next_vertex])\n",
    "            parent[next_g] = set([node.g])\n",
    "            g_open[next_vertex].add(next_g)\n",
    "            open_.push(Node(next_vertex, next_g, next_f, parent=None))\n",
    "    \n",
    "    return {\n",
    "        'solutions': solutions,\n",
    "        'parent': parent,\n",
    "        'n_expansions': n_expansions,\n",
    "        'runtime': time.time() - start_time,\n",
    "        'max_size': open_.max_size,\n",
    "        'max_size_invalid': open_.max_size_invalid\n",
    "    }"
   ]
  },
  {
   "cell_type": "markdown",
   "metadata": {},
   "source": [
    "## 1.3 Реализация `BOA`"
   ]
  },
  {
   "cell_type": "code",
   "execution_count": 4,
   "metadata": {},
   "outputs": [],
   "source": [
    "class OpenBOA:\n",
    "    def __init__(self):\n",
    "        super().__init__()\n",
    "        self.queue = []\n",
    "        self.max_size = 0\n",
    "    \n",
    "    def __len__(self):\n",
    "        return len(self.queue)\n",
    "    \n",
    "    def __iter__(self):\n",
    "        return iter(self.queue)\n",
    "    \n",
    "    def is_empty(self):\n",
    "        return len(self.queue) == 0\n",
    "    \n",
    "    def push(self, node):\n",
    "        heapq.heappush(self.queue, node)\n",
    "        if len(self.queue) > self.max_size:\n",
    "            self.max_size = len(self.queue)\n",
    "    \n",
    "    def pop(self):\n",
    "        return heapq.heappop(self.queue)\n",
    "\n",
    "\n",
    "def boa(graph, start, goal):\n",
    "    start_time = time.time()\n",
    "    n_expansions = 0\n",
    "    solutions = []\n",
    "    h0 = nx.shortest_path_length(graph, source=goal, weight='distance')\n",
    "    h1 = nx.shortest_path_length(graph, source=goal, weight='time')\n",
    "    g1_min = collections.defaultdict(lambda: math.inf)\n",
    "    open_ = OpenBOA()\n",
    "    open_.push(Node(vertex=start, g=(0, 0), f=(h0[start], h1[start]), parent=None))\n",
    "    \n",
    "    while not open_.is_empty():\n",
    "        node = open_.pop()\n",
    "        if node.g[1] >= g1_min[node.vertex] or node.f[1] >= g1_min[goal]:\n",
    "            continue\n",
    "        \n",
    "        g1_min[node.vertex] = node.g[1]\n",
    "        if node.vertex == goal:\n",
    "            solutions.append(node)\n",
    "            continue\n",
    "        \n",
    "        n_expansions += 1\n",
    "        for edge in graph.edges(node.vertex, data=True):\n",
    "            vertex = edge[1]\n",
    "            cost = (edge[2]['distance'], edge[2]['time'])\n",
    "            g = (node.g[0] + cost[0], node.g[1] + cost[1])\n",
    "            f = (g[0] + h0[vertex], g[1] + h1[vertex])\n",
    "            if g[1] >= g1_min[vertex] or f[1] >= g1_min[goal]:\n",
    "                continue\n",
    "            \n",
    "            successor = Node(vertex, g, f, parent=node)\n",
    "            open_.push(successor)\n",
    "    \n",
    "    return {\n",
    "        'solutions': solutions,\n",
    "        'n_expansions': n_expansions,\n",
    "        'runtime': time.time() - start_time,\n",
    "        'max_size': open_.max_size\n",
    "    }"
   ]
  },
  {
   "cell_type": "markdown",
   "metadata": {},
   "source": [
    "## 1.4 Наивный алгоритм"
   ]
  },
  {
   "cell_type": "code",
   "execution_count": 5,
   "metadata": {},
   "outputs": [],
   "source": [
    "def naive_algorithm(graph, start):\n",
    "    g_value = {vertex: set() for vertex in graph.nodes()}\n",
    "    g_value[start].add((0, 0))\n",
    "    open_ = collections.deque([start])\n",
    "    \n",
    "    while len(open_) > 0:\n",
    "        vertex = open_.pop()\n",
    "        for edge in graph.edges(vertex, data=True):\n",
    "            next_vertex = edge[1]\n",
    "            cost = (edge[2]['distance'], edge[2]['time'])\n",
    "            update = False\n",
    "            for g in g_value[vertex]:\n",
    "                g_candidate = (g[0] + cost[0], g[1] + cost[1])\n",
    "                if g_candidate in g_value[next_vertex] \\\n",
    "                        or any(dominates(next_g, g_candidate) for next_g in g_value[next_vertex]):\n",
    "                    continue\n",
    "                \n",
    "                remove_dominated(g_candidate, g_value[next_vertex])\n",
    "                g_value[next_vertex].add(g_candidate)\n",
    "                update = True\n",
    "            \n",
    "            if update:\n",
    "                open_.appendleft(next_vertex)\n",
    "    \n",
    "    return g_value"
   ]
  },
  {
   "cell_type": "markdown",
   "metadata": {},
   "source": [
    "# 2 Проверка корректности реализаций `NAMOA` и `BOA`\n",
    "##  2.1 Проверка на случайном графе из 1000 вершин"
   ]
  },
  {
   "cell_type": "code",
   "execution_count": 6,
   "metadata": {},
   "outputs": [
    {
     "name": "stdout",
     "output_type": "stream",
     "text": [
      "E=49779\n"
     ]
    }
   ],
   "source": [
    "V = 1000\n",
    "random_graph = nx.gnp_random_graph(V, 0.1)\n",
    "for edge in random_graph.edges():\n",
    "    random_graph[edge[0]][edge[1]]['distance'] = random.randint(1, 1000)\n",
    "    random_graph[edge[0]][edge[1]]['time'] = random.randint(1, 1000)\n",
    "\n",
    "print(f'E={len(random_graph.edges())}')"
   ]
  },
  {
   "cell_type": "code",
   "execution_count": 7,
   "metadata": {},
   "outputs": [
    {
     "data": {
      "application/vnd.jupyter.widget-view+json": {
       "model_id": "1dc0e6b1600246d793f8dadab194cda5",
       "version_major": 2,
       "version_minor": 0
      },
      "text/plain": [
       "HBox(children=(FloatProgress(value=0.0, max=1000.0), HTML(value='')))"
      ]
     },
     "metadata": {},
     "output_type": "display_data"
    },
    {
     "name": "stdout",
     "output_type": "stream",
     "text": [
      "\n",
      "CPU times: user 23min 57s, sys: 1.32 s, total: 23min 58s\n",
      "Wall time: 23min 58s\n"
     ]
    }
   ],
   "source": [
    "%%time\n",
    "source = 0\n",
    "ground_truth = naive_algorithm(random_graph, source)\n",
    "for goal in tqdm(random_graph.nodes()):\n",
    "    if goal == source:\n",
    "        continue\n",
    "    \n",
    "    boa_solutions = set([node.g for node in boa(random_graph, source, goal)['solutions']])\n",
    "    namoa_solutions = set(namoa(random_graph, source, goal)['solutions'])\n",
    "    if ground_truth[goal] != boa_solutions:\n",
    "        raise AssertionError('BOA results are inconsistent with ground truth.')\n",
    "    if ground_truth[goal] != namoa_solutions:\n",
    "        raise AssertionError('NAMOA results are inconsistent with ground truth.')"
   ]
  },
  {
   "cell_type": "markdown",
   "metadata": {},
   "source": [
    "##  2.2 Проверка на подграфе DIMACS из 10000 вершин"
   ]
  },
  {
   "cell_type": "code",
   "execution_count": 8,
   "metadata": {},
   "outputs": [
    {
     "name": "stdout",
     "output_type": "stream",
     "text": [
      "E=365050\n",
      "V=264346\n",
      "Mean degree:2.7619105263556096\n"
     ]
    }
   ],
   "source": [
    "graph = read_edgelists('USA-road-d.NY.gr', 'USA-road-t.NY.gr')\n",
    "print(f'E={len(graph.edges())}')\n",
    "print(f'V={len(graph.nodes())}')\n",
    "print(f'Mean degree:{np.mean([degree for node, degree in graph.degree()])}')"
   ]
  },
  {
   "cell_type": "code",
   "execution_count": 9,
   "metadata": {},
   "outputs": [
    {
     "name": "stdout",
     "output_type": "stream",
     "text": [
      "E=13582\n",
      "V=10001\n",
      "Mean degree:2.716128387161284\n"
     ]
    },
    {
     "data": {
      "application/vnd.jupyter.widget-view+json": {
       "model_id": "0f9bbaa034774089b05f169e268da186",
       "version_major": 2,
       "version_minor": 0
      },
      "text/plain": [
       "HBox(children=(FloatProgress(value=0.0, max=10001.0), HTML(value='')))"
      ]
     },
     "metadata": {},
     "output_type": "display_data"
    },
    {
     "name": "stdout",
     "output_type": "stream",
     "text": [
      "\n",
      "CPU times: user 1h 42min 59s, sys: 7.45 s, total: 1h 43min 7s\n",
      "Wall time: 1h 43min 1s\n"
     ]
    }
   ],
   "source": [
    "%%time\n",
    "source = 20000\n",
    "V = 10000\n",
    "nodes = [source] + [edge[1] for i, edge in enumerate(nx.bfs_edges(graph, source=source)) if i < V]\n",
    "subgraph = graph.subgraph(nodes)\n",
    "print(f'E={len(subgraph.edges())}')\n",
    "print(f'V={len(subgraph.nodes())}')\n",
    "print(f'Mean degree:{np.mean([degree for node, degree in subgraph.degree()])}')\n",
    "\n",
    "ground_truth = naive_algorithm(subgraph, source)\n",
    "for goal in tqdm(subgraph.nodes()):\n",
    "    if goal == source:\n",
    "        continue\n",
    "    \n",
    "    boa_solutions = set([node.g for node in boa(subgraph, source, goal)['solutions']])\n",
    "    namoa_solutions = set(namoa(subgraph, source, goal)['solutions'])\n",
    "    if ground_truth[goal] != boa_solutions:\n",
    "        raise AssertionError('BOA results are inconsistent with ground truth.')\n",
    "    if ground_truth[goal] != namoa_solutions:\n",
    "        raise AssertionError('NAMOA results are inconsistent with ground truth.')"
   ]
  },
  {
   "cell_type": "markdown",
   "metadata": {},
   "source": [
    "# 3 Сравнение на `NAMOA` и `BOA` на данных DIMACS\n",
    "- Работа алгоритмов сравнивалась на 100 случайно выбраных парах вершин `pairs.txt`\n",
    "```python\n",
    "import random\n",
    "N_PAIRS = 100\n",
    "graph = read_edgelists('USA-road-d.NY.gr', 'USA-road-t.NY.gr')\n",
    "nodes = random.sample(list(graph.nodes), k=2 * N_PAIRS)\n",
    "with open('pairs.txt', 'w') as file_obj:\n",
    "    for source, goal in zip(nodes[:N_PAIRS], nodes[N_PAIRS:]):\n",
    "        file_obj.write(f'{source} {goal}\\n')\n",
    "```"
   ]
  },
  {
   "cell_type": "code",
   "execution_count": 10,
   "metadata": {},
   "outputs": [],
   "source": [
    "def task_boa(graph, start, goal):\n",
    "    result = boa(graph, start, goal)\n",
    "    result['solutions'] = [node.g for node in result['solutions']]\n",
    "    result['start'] = start\n",
    "    result['goal'] = goal\n",
    "    \n",
    "    return result\n",
    "\n",
    "\n",
    "def task_namoa(graph, start, goal):\n",
    "    result = namoa(graph, start, goal)\n",
    "    result['start'] = start\n",
    "    result['goal'] = goal\n",
    "    del result['parent']\n",
    "    \n",
    "    return result"
   ]
  },
  {
   "cell_type": "markdown",
   "metadata": {},
   "source": [
    "##  3.1 `BOA`"
   ]
  },
  {
   "cell_type": "code",
   "execution_count": 11,
   "metadata": {},
   "outputs": [
    {
     "name": "stdout",
     "output_type": "stream",
     "text": [
      "CPU times: user 56.7 s, sys: 1.28 s, total: 58 s\n",
      "Wall time: 11min 13s\n"
     ]
    }
   ],
   "source": [
    "%%time\n",
    "graph = read_edgelists('USA-road-d.NY.gr', 'USA-road-t.NY.gr')\n",
    "\n",
    "start_goal_pairs = []\n",
    "with open('pairs.txt', 'r') as file_obj:\n",
    "    for line in file_obj:\n",
    "        line = line.strip()\n",
    "        if line:\n",
    "            start_goal_pairs.append(tuple(int(token) for token in line.split()))\n",
    "\n",
    "\n",
    "with concurrent.futures.ProcessPoolExecutor(max_workers=7) as executor:\n",
    "    futures = []\n",
    "    for start, goal in start_goal_pairs:\n",
    "        futures.append(executor.submit(task_boa, graph, start, goal))\n",
    "    \n",
    "    results = [future.result() for future in concurrent.futures.as_completed(futures), total=len(futures)]    \n",
    "    with open('boa_results.pickle', 'wb') as file_obj:\n",
    "        pickle.dump(results, file_obj)"
   ]
  },
  {
   "cell_type": "markdown",
   "metadata": {},
   "source": [
    "##  3.2 `NAMOA`"
   ]
  },
  {
   "cell_type": "code",
   "execution_count": 13,
   "metadata": {},
   "outputs": [
    {
     "name": "stdout",
     "output_type": "stream",
     "text": [
      "CPU times: user 58.4 s, sys: 1.44 s, total: 59.9 s\n",
      "Wall time: 1h 22min 33s\n"
     ]
    }
   ],
   "source": [
    "%%time\n",
    "graph = read_edgelists('USA-road-d.NY.gr', 'USA-road-t.NY.gr')\n",
    "\n",
    "start_goal_pairs = []\n",
    "with open('pairs.txt', 'r') as file_obj:\n",
    "    for line in file_obj:\n",
    "        line = line.strip()\n",
    "        if line:\n",
    "            start_goal_pairs.append(tuple(int(token) for token in line.split()))\n",
    "\n",
    "\n",
    "with concurrent.futures.ProcessPoolExecutor(max_workers=7) as executor:\n",
    "    futures = []\n",
    "    for start, goal in start_goal_pairs:\n",
    "        futures.append(executor.submit(task_namoa, graph, start, goal))\n",
    "    \n",
    "    results = [future.result() for future in concurrent.futures.as_completed(futures), total=len(futures)]    \n",
    "    with open('namoa_results.pickle', 'wb') as file_obj:\n",
    "        pickle.dump(results, file_obj)"
   ]
  },
  {
   "cell_type": "markdown",
   "metadata": {},
   "source": [
    "##  3.3 Пример результатов"
   ]
  },
  {
   "cell_type": "code",
   "execution_count": 15,
   "metadata": {},
   "outputs": [
    {
     "data": {
      "text/html": [
       "<div>\n",
       "<style scoped>\n",
       "    .dataframe tbody tr th:only-of-type {\n",
       "        vertical-align: middle;\n",
       "    }\n",
       "\n",
       "    .dataframe tbody tr th {\n",
       "        vertical-align: top;\n",
       "    }\n",
       "\n",
       "    .dataframe thead th {\n",
       "        text-align: right;\n",
       "    }\n",
       "</style>\n",
       "<table border=\"1\" class=\"dataframe\">\n",
       "  <thead>\n",
       "    <tr style=\"text-align: right;\">\n",
       "      <th></th>\n",
       "      <th></th>\n",
       "      <th>solutions</th>\n",
       "      <th>n_expansions</th>\n",
       "      <th>runtime</th>\n",
       "      <th>max_size</th>\n",
       "    </tr>\n",
       "    <tr>\n",
       "      <th>start</th>\n",
       "      <th>goal</th>\n",
       "      <th></th>\n",
       "      <th></th>\n",
       "      <th></th>\n",
       "      <th></th>\n",
       "    </tr>\n",
       "  </thead>\n",
       "  <tbody>\n",
       "    <tr>\n",
       "      <th>581</th>\n",
       "      <th>205448</th>\n",
       "      <td>[(546183, 909771), (546242, 903812), (546880, ...</td>\n",
       "      <td>26776</td>\n",
       "      <td>4.415459</td>\n",
       "      <td>3690</td>\n",
       "    </tr>\n",
       "    <tr>\n",
       "      <th>650</th>\n",
       "      <th>176483</th>\n",
       "      <td>[(735979, 1306497), (736031, 1305654), (736038...</td>\n",
       "      <td>633558</td>\n",
       "      <td>25.949776</td>\n",
       "      <td>51230</td>\n",
       "    </tr>\n",
       "    <tr>\n",
       "      <th>4393</th>\n",
       "      <th>159868</th>\n",
       "      <td>[(1042436, 2012628), (1042479, 2007985), (1042...</td>\n",
       "      <td>251351</td>\n",
       "      <td>10.954799</td>\n",
       "      <td>21498</td>\n",
       "    </tr>\n",
       "    <tr>\n",
       "      <th>15332</th>\n",
       "      <th>150787</th>\n",
       "      <td>[(443588, 980882), (443589, 980881), (443590, ...</td>\n",
       "      <td>81778</td>\n",
       "      <td>5.236346</td>\n",
       "      <td>12044</td>\n",
       "    </tr>\n",
       "    <tr>\n",
       "      <th>23924</th>\n",
       "      <th>263320</th>\n",
       "      <td>[(492751, 839015), (492754, 837314), (492809, ...</td>\n",
       "      <td>91410</td>\n",
       "      <td>4.976904</td>\n",
       "      <td>15046</td>\n",
       "    </tr>\n",
       "  </tbody>\n",
       "</table>\n",
       "</div>"
      ],
      "text/plain": [
       "                                                      solutions  n_expansions  \\\n",
       "start goal                                                                      \n",
       "581   205448  [(546183, 909771), (546242, 903812), (546880, ...         26776   \n",
       "650   176483  [(735979, 1306497), (736031, 1305654), (736038...        633558   \n",
       "4393  159868  [(1042436, 2012628), (1042479, 2007985), (1042...        251351   \n",
       "15332 150787  [(443588, 980882), (443589, 980881), (443590, ...         81778   \n",
       "23924 263320  [(492751, 839015), (492754, 837314), (492809, ...         91410   \n",
       "\n",
       "                runtime  max_size  \n",
       "start goal                         \n",
       "581   205448   4.415459      3690  \n",
       "650   176483  25.949776     51230  \n",
       "4393  159868  10.954799     21498  \n",
       "15332 150787   5.236346     12044  \n",
       "23924 263320   4.976904     15046  "
      ]
     },
     "execution_count": 15,
     "metadata": {},
     "output_type": "execute_result"
    }
   ],
   "source": [
    "with open('boa_results.pickle', 'rb') as file_obj:\n",
    "    boa_results = pd.DataFrame(pickle.load(file_obj))\n",
    "    boa_results.set_index(keys=['start', 'goal'], inplace=True)\n",
    "    boa_results.sort_index(inplace=True)\n",
    "\n",
    "boa_results.head()"
   ]
  },
  {
   "cell_type": "code",
   "execution_count": 16,
   "metadata": {},
   "outputs": [
    {
     "data": {
      "text/html": [
       "<div>\n",
       "<style scoped>\n",
       "    .dataframe tbody tr th:only-of-type {\n",
       "        vertical-align: middle;\n",
       "    }\n",
       "\n",
       "    .dataframe tbody tr th {\n",
       "        vertical-align: top;\n",
       "    }\n",
       "\n",
       "    .dataframe thead th {\n",
       "        text-align: right;\n",
       "    }\n",
       "</style>\n",
       "<table border=\"1\" class=\"dataframe\">\n",
       "  <thead>\n",
       "    <tr style=\"text-align: right;\">\n",
       "      <th></th>\n",
       "      <th></th>\n",
       "      <th>solutions</th>\n",
       "      <th>n_expansions</th>\n",
       "      <th>runtime</th>\n",
       "      <th>max_size</th>\n",
       "      <th>max_size_invalid</th>\n",
       "    </tr>\n",
       "    <tr>\n",
       "      <th>start</th>\n",
       "      <th>goal</th>\n",
       "      <th></th>\n",
       "      <th></th>\n",
       "      <th></th>\n",
       "      <th></th>\n",
       "      <th></th>\n",
       "    </tr>\n",
       "  </thead>\n",
       "  <tbody>\n",
       "    <tr>\n",
       "      <th>581</th>\n",
       "      <th>205448</th>\n",
       "      <td>[(546183, 909771), (546242, 903812), (546880, ...</td>\n",
       "      <td>26776</td>\n",
       "      <td>3.998603</td>\n",
       "      <td>2314</td>\n",
       "      <td>3407</td>\n",
       "    </tr>\n",
       "    <tr>\n",
       "      <th>650</th>\n",
       "      <th>176483</th>\n",
       "      <td>[(735979, 1306497), (736031, 1305654), (736038...</td>\n",
       "      <td>633807</td>\n",
       "      <td>110.397955</td>\n",
       "      <td>34549</td>\n",
       "      <td>44948</td>\n",
       "    </tr>\n",
       "    <tr>\n",
       "      <th>4393</th>\n",
       "      <th>159868</th>\n",
       "      <td>[(1042436, 2012628), (1042479, 2007985), (1042...</td>\n",
       "      <td>251351</td>\n",
       "      <td>46.328172</td>\n",
       "      <td>12115</td>\n",
       "      <td>19007</td>\n",
       "    </tr>\n",
       "    <tr>\n",
       "      <th>15332</th>\n",
       "      <th>150787</th>\n",
       "      <td>[(443588, 980882), (443589, 980881), (443590, ...</td>\n",
       "      <td>81778</td>\n",
       "      <td>50.862343</td>\n",
       "      <td>4753</td>\n",
       "      <td>10047</td>\n",
       "    </tr>\n",
       "    <tr>\n",
       "      <th>23924</th>\n",
       "      <th>263320</th>\n",
       "      <td>[(492751, 839015), (492754, 837314), (492809, ...</td>\n",
       "      <td>91410</td>\n",
       "      <td>17.418110</td>\n",
       "      <td>10134</td>\n",
       "      <td>13726</td>\n",
       "    </tr>\n",
       "  </tbody>\n",
       "</table>\n",
       "</div>"
      ],
      "text/plain": [
       "                                                      solutions  n_expansions  \\\n",
       "start goal                                                                      \n",
       "581   205448  [(546183, 909771), (546242, 903812), (546880, ...         26776   \n",
       "650   176483  [(735979, 1306497), (736031, 1305654), (736038...        633807   \n",
       "4393  159868  [(1042436, 2012628), (1042479, 2007985), (1042...        251351   \n",
       "15332 150787  [(443588, 980882), (443589, 980881), (443590, ...         81778   \n",
       "23924 263320  [(492751, 839015), (492754, 837314), (492809, ...         91410   \n",
       "\n",
       "                 runtime  max_size  max_size_invalid  \n",
       "start goal                                            \n",
       "581   205448    3.998603      2314              3407  \n",
       "650   176483  110.397955     34549             44948  \n",
       "4393  159868   46.328172     12115             19007  \n",
       "15332 150787   50.862343      4753             10047  \n",
       "23924 263320   17.418110     10134             13726  "
      ]
     },
     "execution_count": 16,
     "metadata": {},
     "output_type": "execute_result"
    }
   ],
   "source": [
    "with open('namoa_results.pickle', 'rb') as file_obj:\n",
    "    namoa_results = pd.DataFrame(pickle.load(file_obj))\n",
    "    namoa_results.set_index(keys=['start', 'goal'], inplace=True)\n",
    "    namoa_results.sort_index(inplace=True)\n",
    "\n",
    "namoa_results.head()"
   ]
  },
  {
   "cell_type": "markdown",
   "metadata": {},
   "source": [
    "## 3.4 Сравнение полученных решений"
   ]
  },
  {
   "cell_type": "code",
   "execution_count": 25,
   "metadata": {},
   "outputs": [
    {
     "name": "stdout",
     "output_type": "stream",
     "text": [
      "Are solutions same: True\n"
     ]
    }
   ],
   "source": [
    "print(\n",
    "    'Are solutions same:',\n",
    "    boa_results.solutions.apply(lambda x: set(x)).equals(namoa_results.solutions.apply(lambda x: set(x)))\n",
    ")"
   ]
  },
  {
   "cell_type": "markdown",
   "metadata": {},
   "source": [
    "## 3.5 Сравнение `n_expansion`"
   ]
  },
  {
   "cell_type": "code",
   "execution_count": 29,
   "metadata": {},
   "outputs": [
    {
     "data": {
      "text/html": [
       "<div>\n",
       "<style scoped>\n",
       "    .dataframe tbody tr th:only-of-type {\n",
       "        vertical-align: middle;\n",
       "    }\n",
       "\n",
       "    .dataframe tbody tr th {\n",
       "        vertical-align: top;\n",
       "    }\n",
       "\n",
       "    .dataframe thead th {\n",
       "        text-align: right;\n",
       "    }\n",
       "</style>\n",
       "<table border=\"1\" class=\"dataframe\">\n",
       "  <thead>\n",
       "    <tr style=\"text-align: right;\">\n",
       "      <th></th>\n",
       "      <th></th>\n",
       "      <th>solutions</th>\n",
       "      <th>n_expansions</th>\n",
       "      <th>runtime</th>\n",
       "      <th>max_size</th>\n",
       "    </tr>\n",
       "    <tr>\n",
       "      <th>start</th>\n",
       "      <th>goal</th>\n",
       "      <th></th>\n",
       "      <th></th>\n",
       "      <th></th>\n",
       "      <th></th>\n",
       "    </tr>\n",
       "  </thead>\n",
       "  <tbody>\n",
       "    <tr>\n",
       "      <th>650</th>\n",
       "      <th>176483</th>\n",
       "      <td>[(735979, 1306497), (736031, 1305654), (736038...</td>\n",
       "      <td>633558</td>\n",
       "      <td>25.949776</td>\n",
       "      <td>51230</td>\n",
       "    </tr>\n",
       "  </tbody>\n",
       "</table>\n",
       "</div>"
      ],
      "text/plain": [
       "                                                      solutions  n_expansions  \\\n",
       "start goal                                                                      \n",
       "650   176483  [(735979, 1306497), (736031, 1305654), (736038...        633558   \n",
       "\n",
       "                runtime  max_size  \n",
       "start goal                         \n",
       "650   176483  25.949776     51230  "
      ]
     },
     "execution_count": 29,
     "metadata": {},
     "output_type": "execute_result"
    }
   ],
   "source": [
    "boa_results[boa_results['n_expansions'] != namoa_results['n_expansions']]"
   ]
  },
  {
   "cell_type": "code",
   "execution_count": 30,
   "metadata": {},
   "outputs": [
    {
     "data": {
      "text/html": [
       "<div>\n",
       "<style scoped>\n",
       "    .dataframe tbody tr th:only-of-type {\n",
       "        vertical-align: middle;\n",
       "    }\n",
       "\n",
       "    .dataframe tbody tr th {\n",
       "        vertical-align: top;\n",
       "    }\n",
       "\n",
       "    .dataframe thead th {\n",
       "        text-align: right;\n",
       "    }\n",
       "</style>\n",
       "<table border=\"1\" class=\"dataframe\">\n",
       "  <thead>\n",
       "    <tr style=\"text-align: right;\">\n",
       "      <th></th>\n",
       "      <th></th>\n",
       "      <th>solutions</th>\n",
       "      <th>n_expansions</th>\n",
       "      <th>runtime</th>\n",
       "      <th>max_size</th>\n",
       "      <th>max_size_invalid</th>\n",
       "    </tr>\n",
       "    <tr>\n",
       "      <th>start</th>\n",
       "      <th>goal</th>\n",
       "      <th></th>\n",
       "      <th></th>\n",
       "      <th></th>\n",
       "      <th></th>\n",
       "      <th></th>\n",
       "    </tr>\n",
       "  </thead>\n",
       "  <tbody>\n",
       "    <tr>\n",
       "      <th>650</th>\n",
       "      <th>176483</th>\n",
       "      <td>[(735979, 1306497), (736031, 1305654), (736038...</td>\n",
       "      <td>633807</td>\n",
       "      <td>110.397955</td>\n",
       "      <td>34549</td>\n",
       "      <td>44948</td>\n",
       "    </tr>\n",
       "  </tbody>\n",
       "</table>\n",
       "</div>"
      ],
      "text/plain": [
       "                                                      solutions  n_expansions  \\\n",
       "start goal                                                                      \n",
       "650   176483  [(735979, 1306497), (736031, 1305654), (736038...        633807   \n",
       "\n",
       "                 runtime  max_size  max_size_invalid  \n",
       "start goal                                            \n",
       "650   176483  110.397955     34549             44948  "
      ]
     },
     "execution_count": 30,
     "metadata": {},
     "output_type": "execute_result"
    }
   ],
   "source": [
    "namoa_results[boa_results['n_expansions'] != namoa_results['n_expansions']]"
   ]
  },
  {
   "cell_type": "markdown",
   "metadata": {},
   "source": [
    "## 3.6 Статистика для `BOA`"
   ]
  },
  {
   "cell_type": "code",
   "execution_count": 31,
   "metadata": {},
   "outputs": [
    {
     "data": {
      "text/html": [
       "<div>\n",
       "<style scoped>\n",
       "    .dataframe tbody tr th:only-of-type {\n",
       "        vertical-align: middle;\n",
       "    }\n",
       "\n",
       "    .dataframe tbody tr th {\n",
       "        vertical-align: top;\n",
       "    }\n",
       "\n",
       "    .dataframe thead th {\n",
       "        text-align: right;\n",
       "    }\n",
       "</style>\n",
       "<table border=\"1\" class=\"dataframe\">\n",
       "  <thead>\n",
       "    <tr style=\"text-align: right;\">\n",
       "      <th></th>\n",
       "      <th>n_expansions</th>\n",
       "      <th>runtime</th>\n",
       "      <th>max_size</th>\n",
       "    </tr>\n",
       "  </thead>\n",
       "  <tbody>\n",
       "    <tr>\n",
       "      <th>min</th>\n",
       "      <td>4.900000e+01</td>\n",
       "      <td>1.801484</td>\n",
       "      <td>28.000000</td>\n",
       "    </tr>\n",
       "    <tr>\n",
       "      <th>mean</th>\n",
       "      <td>4.896015e+05</td>\n",
       "      <td>27.873722</td>\n",
       "      <td>21850.900000</td>\n",
       "    </tr>\n",
       "    <tr>\n",
       "      <th>max</th>\n",
       "      <td>8.497269e+06</td>\n",
       "      <td>521.712259</td>\n",
       "      <td>240390.000000</td>\n",
       "    </tr>\n",
       "    <tr>\n",
       "      <th>std</th>\n",
       "      <td>1.300720e+06</td>\n",
       "      <td>78.389148</td>\n",
       "      <td>36845.529102</td>\n",
       "    </tr>\n",
       "  </tbody>\n",
       "</table>\n",
       "</div>"
      ],
      "text/plain": [
       "      n_expansions     runtime       max_size\n",
       "min   4.900000e+01    1.801484      28.000000\n",
       "mean  4.896015e+05   27.873722   21850.900000\n",
       "max   8.497269e+06  521.712259  240390.000000\n",
       "std   1.300720e+06   78.389148   36845.529102"
      ]
     },
     "execution_count": 31,
     "metadata": {},
     "output_type": "execute_result"
    }
   ],
   "source": [
    "boa_results.drop(columns=['solutions']).describe(percentiles=[]).T[['min', 'mean', 'max', 'std']].T"
   ]
  },
  {
   "cell_type": "markdown",
   "metadata": {},
   "source": [
    "## 3.7 Статистика для `NAMOA`"
   ]
  },
  {
   "cell_type": "code",
   "execution_count": 32,
   "metadata": {},
   "outputs": [
    {
     "data": {
      "text/html": [
       "<div>\n",
       "<style scoped>\n",
       "    .dataframe tbody tr th:only-of-type {\n",
       "        vertical-align: middle;\n",
       "    }\n",
       "\n",
       "    .dataframe tbody tr th {\n",
       "        vertical-align: top;\n",
       "    }\n",
       "\n",
       "    .dataframe thead th {\n",
       "        text-align: right;\n",
       "    }\n",
       "</style>\n",
       "<table border=\"1\" class=\"dataframe\">\n",
       "  <thead>\n",
       "    <tr style=\"text-align: right;\">\n",
       "      <th></th>\n",
       "      <th>n_expansions</th>\n",
       "      <th>runtime</th>\n",
       "      <th>max_size</th>\n",
       "      <th>max_size_invalid</th>\n",
       "    </tr>\n",
       "  </thead>\n",
       "  <tbody>\n",
       "    <tr>\n",
       "      <th>min</th>\n",
       "      <td>4.900000e+01</td>\n",
       "      <td>1.619263</td>\n",
       "      <td>22.000000</td>\n",
       "      <td>27.000000</td>\n",
       "    </tr>\n",
       "    <tr>\n",
       "      <th>mean</th>\n",
       "      <td>4.896040e+05</td>\n",
       "      <td>189.940944</td>\n",
       "      <td>13674.350000</td>\n",
       "      <td>19005.820000</td>\n",
       "    </tr>\n",
       "    <tr>\n",
       "      <th>max</th>\n",
       "      <td>8.497269e+06</td>\n",
       "      <td>4236.250133</td>\n",
       "      <td>149794.000000</td>\n",
       "      <td>205330.000000</td>\n",
       "    </tr>\n",
       "    <tr>\n",
       "      <th>std</th>\n",
       "      <td>1.300721e+06</td>\n",
       "      <td>634.725630</td>\n",
       "      <td>23689.873754</td>\n",
       "      <td>31931.085141</td>\n",
       "    </tr>\n",
       "  </tbody>\n",
       "</table>\n",
       "</div>"
      ],
      "text/plain": [
       "      n_expansions      runtime       max_size  max_size_invalid\n",
       "min   4.900000e+01     1.619263      22.000000         27.000000\n",
       "mean  4.896040e+05   189.940944   13674.350000      19005.820000\n",
       "max   8.497269e+06  4236.250133  149794.000000     205330.000000\n",
       "std   1.300721e+06   634.725630   23689.873754      31931.085141"
      ]
     },
     "execution_count": 32,
     "metadata": {},
     "output_type": "execute_result"
    }
   ],
   "source": [
    "namoa_results.drop(columns=['solutions']).describe(percentiles=[]).T[['min', 'mean', 'max', 'std']].T"
   ]
  },
  {
   "cell_type": "code",
   "execution_count": null,
   "metadata": {},
   "outputs": [],
   "source": []
  }
 ],
 "metadata": {
  "kernelspec": {
   "display_name": "Python 3",
   "language": "python",
   "name": "python3"
  },
  "language_info": {
   "codemirror_mode": {
    "name": "ipython",
    "version": 3
   },
   "file_extension": ".py",
   "mimetype": "text/x-python",
   "name": "python",
   "nbconvert_exporter": "python",
   "pygments_lexer": "ipython3",
   "version": "3.8.3"
  }
 },
 "nbformat": 4,
 "nbformat_minor": 4
}
